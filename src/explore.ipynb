{
 "cells": [
  {
   "cell_type": "markdown",
   "id": "1b66f102",
   "metadata": {},
   "source": [
    "### Stress level prediction"
   ]
  },
  {
   "cell_type": "code",
   "execution_count": 1,
   "id": "ee379ce6",
   "metadata": {},
   "outputs": [],
   "source": [
    "import pandas as pd\n",
    "import numpy as nd"
   ]
  },
  {
   "cell_type": "code",
   "execution_count": 2,
   "id": "7d1a5222",
   "metadata": {},
   "outputs": [
    {
     "name": "stdout",
     "output_type": "stream",
     "text": [
      "<class 'pandas.core.frame.DataFrame'>\n",
      "RangeIndex: 773 entries, 0 to 772\n",
      "Data columns (total 22 columns):\n",
      " #   Column               Non-Null Count  Dtype  \n",
      "---  ------               --------------  -----  \n",
      " 0   Age                  773 non-null    int64  \n",
      " 1   Gender               773 non-null    object \n",
      " 2   Occupation           773 non-null    object \n",
      " 3   Marital_Status       773 non-null    object \n",
      " 4   Sleep_Duration       773 non-null    float64\n",
      " 5   Sleep_Quality        773 non-null    float64\n",
      " 6   Wake_Up_Time         773 non-null    object \n",
      " 7   Bed_Time             773 non-null    object \n",
      " 8   Physical_Activity    773 non-null    float64\n",
      " 9   Screen_Time          773 non-null    float64\n",
      " 10  Caffeine_Intake      773 non-null    int64  \n",
      " 11  Alcohol_Intake       773 non-null    int64  \n",
      " 12  Smoking_Habit        773 non-null    object \n",
      " 13  Work_Hours           773 non-null    int64  \n",
      " 14  Travel_Time          773 non-null    float64\n",
      " 15  Social_Interactions  773 non-null    int64  \n",
      " 16  Meditation_Practice  773 non-null    object \n",
      " 17  Exercise_Type        773 non-null    object \n",
      " 18  Blood_Pressure       773 non-null    int64  \n",
      " 19  Cholesterol_Level    773 non-null    int64  \n",
      " 20  Blood_Sugar_Level    773 non-null    int64  \n",
      " 21  Stress_Detection     773 non-null    object \n",
      "dtypes: float64(5), int64(8), object(9)\n",
      "memory usage: 133.0+ KB\n",
      "None\n",
      "Contamos con  773  filas (individuos) y 22 columnas\n",
      "Existen 0 datos duplicados\n"
     ]
    }
   ],
   "source": [
    "ds_original=pd.read_csv(\"/workspaces/Stress_detection/data/stress_detection_data.csv\")\n",
    "print(ds_original.info())\n",
    "\n",
    "shape=ds_original.shape\n",
    "print(f\"Contamos con  {shape[0]}  filas (individuos) y {shape[1]} columnas\")\n",
    "\n",
    "duplicados = ds_original.duplicated()\n",
    "num_duplicados = duplicados.sum()\n",
    "print(f\"Existen {num_duplicados} datos duplicados\")"
   ]
  },
  {
   "cell_type": "markdown",
   "id": "ad28477e",
   "metadata": {},
   "source": [
    "Contamos con 22 columnas y 773 filas.\n",
    "\n",
    "No contamos con datos duplicados.\n",
    "\n",
    "No contamos con datos nulos en ninguna variable.\n",
    "\n",
    "### Datos numéricos\n",
    "\n",
    "- Age: The age of the individual.\n",
    "- Sleep_Duration: The total amount of sleep an individual gets on average (in hours).\n",
    "- Sleep_Quality: Self-reported quality of sleep on a scale (e.g., 1-5).\n",
    "- Physical_Activity: Frequency of physical activity (e.g., number of days/week or a score).\n",
    "- Screen_Time: The average number of hours spent on electronic screens per day.\n",
    "- Caffeine_Intake: The average amount of caffeine consumed (e.g., cups of coffee).\n",
    "- Alcohol_Intake: The average amount of alcohol consumed (e.g., number of drinks per week).\n",
    "- Work_Hours: The number of hours worked per week.\n",
    "- Travel_Time: The time spent commuting (e.g., in hours per day).\n",
    "- Social_Interactions: The frequency of social interactions (e.g., number of social events attended).\n",
    "- Blood_Pressure: The individual's blood pressure level (e.g., 120/80).\n",
    "- Cholesterol_Level: The individual's cholesterol level (e.g., in mg/dL).\n",
    "- Blood_Sugar_Level: The individual's blood sugar level (e.g., in mg/dL).\n",
    "\n",
    "### Datos categóricos:\n",
    "\n",
    "- Gender: Gender of the individual (Male/Female).\n",
    "- Occupation: The profession or job title of the individual.\n",
    "- Marital_Status: The marital status of the individual (e.g., Married, Single).\n",
    "- Wake_Up_Time: The time the individual wakes up on average.\n",
    "- Bed_Time: The time the individual goes to bed on average.\n",
    "- Smoking_Habit: Whether the individual smokes (Yes/No).\n",
    "- Meditation_Practice: Whether the individual practices meditation (Yes/No).\n",
    "- Exercise_Type: The type of exercise the individual engages in (e.g., Yoga, Cardio, Strength Training).\n",
    "- Stress_Detection: A classification or indicator of the individual's stress level (e.g., High, Medium, Low)."
   ]
  },
  {
   "cell_type": "markdown",
   "id": "fe9fb9f8",
   "metadata": {},
   "source": [
    "## Análisis Exploratorio de Datos"
   ]
  },
  {
   "cell_type": "code",
   "execution_count": null,
   "id": "307a56da",
   "metadata": {},
   "outputs": [],
   "source": []
  }
 ],
 "metadata": {
  "kernelspec": {
   "display_name": "Python 3",
   "language": "python",
   "name": "python3"
  },
  "language_info": {
   "codemirror_mode": {
    "name": "ipython",
    "version": 3
   },
   "file_extension": ".py",
   "mimetype": "text/x-python",
   "name": "python",
   "nbconvert_exporter": "python",
   "pygments_lexer": "ipython3",
   "version": "3.12.1"
  }
 },
 "nbformat": 4,
 "nbformat_minor": 5
}
