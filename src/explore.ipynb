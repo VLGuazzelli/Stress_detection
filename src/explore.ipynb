{
 "cells": [
  {
   "cell_type": "markdown",
   "id": "1b66f102",
   "metadata": {},
   "source": [
    "### Stress level prediction"
   ]
  },
  {
   "cell_type": "code",
   "execution_count": 1,
   "id": "ee379ce6",
   "metadata": {},
   "outputs": [],
   "source": [
    "import pandas as pd\n",
    "import numpy as nd"
   ]
  },
  {
   "cell_type": "code",
   "execution_count": 7,
   "id": "7d1a5222",
   "metadata": {},
   "outputs": [
    {
     "name": "stdout",
     "output_type": "stream",
     "text": [
      "<class 'pandas.core.frame.DataFrame'>\n",
      "RangeIndex: 773 entries, 0 to 772\n",
      "Data columns (total 22 columns):\n",
      " #   Column               Non-Null Count  Dtype  \n",
      "---  ------               --------------  -----  \n",
      " 0   Age                  773 non-null    int64  \n",
      " 1   Gender               773 non-null    object \n",
      " 2   Occupation           773 non-null    object \n",
      " 3   Marital_Status       773 non-null    object \n",
      " 4   Sleep_Duration       773 non-null    float64\n",
      " 5   Sleep_Quality        773 non-null    float64\n",
      " 6   Wake_Up_Time         773 non-null    object \n",
      " 7   Bed_Time             773 non-null    object \n",
      " 8   Physical_Activity    773 non-null    float64\n",
      " 9   Screen_Time          773 non-null    float64\n",
      " 10  Caffeine_Intake      773 non-null    int64  \n",
      " 11  Alcohol_Intake       773 non-null    int64  \n",
      " 12  Smoking_Habit        773 non-null    object \n",
      " 13  Work_Hours           773 non-null    int64  \n",
      " 14  Travel_Time          773 non-null    float64\n",
      " 15  Social_Interactions  773 non-null    int64  \n",
      " 16  Meditation_Practice  773 non-null    object \n",
      " 17  Exercise_Type        773 non-null    object \n",
      " 18  Blood_Pressure       773 non-null    int64  \n",
      " 19  Cholesterol_Level    773 non-null    int64  \n",
      " 20  Blood_Sugar_Level    773 non-null    int64  \n",
      " 21  Stress_Detection     773 non-null    object \n",
      "dtypes: float64(5), int64(8), object(9)\n",
      "memory usage: 133.0+ KB\n"
     ]
    }
   ],
   "source": [
    "ds_original=pd.read_csv(\"/workspaces/Stress_detection/data/stress_detection_data.csv\")\n",
    "ds_original.info()"
   ]
  },
  {
   "cell_type": "markdown",
   "id": "ad28477e",
   "metadata": {},
   "source": []
  }
 ],
 "metadata": {
  "kernelspec": {
   "display_name": "Python 3",
   "language": "python",
   "name": "python3"
  },
  "language_info": {
   "codemirror_mode": {
    "name": "ipython",
    "version": 3
   },
   "file_extension": ".py",
   "mimetype": "text/x-python",
   "name": "python",
   "nbconvert_exporter": "python",
   "pygments_lexer": "ipython3",
   "version": "3.12.1"
  }
 },
 "nbformat": 4,
 "nbformat_minor": 5
}
